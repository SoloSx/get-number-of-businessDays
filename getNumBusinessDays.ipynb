{
 "cells": [
  {
   "cell_type": "code",
   "execution_count": 3,
   "id": "ebbcee21-1b01-4e46-8628-4f9ddd5bfcaf",
   "metadata": {},
   "outputs": [],
   "source": [
    "# 土日祝日を取得するプログラム作成 \n",
    "\n",
    "# 祝日のリスト　#第三条の第二項は，国民の祝日と日曜日が重なった場合は，振替休日が発生すると定めていて該当する日にちが次の日(月曜日)は休みになる\n",
    "#https://www8.cao.go.jp/chosei/shukujitsu/gaiyou.html\n",
    "\n",
    "# https://www.excel.usefulhp.com/excel-waza/excel-waza22.htm"
   ]
  },
  {
   "cell_type": "code",
   "execution_count": null,
   "id": "96ab7241-b41d-4c3e-a4f9-7a45962d5221",
   "metadata": {},
   "outputs": [],
   "source": [
    "year = 2023"
   ]
  },
  {
   "cell_type": "code",
   "execution_count": 6,
   "id": "32774771-f9f3-48af-b540-84fef4328363",
   "metadata": {},
   "outputs": [
    {
     "ename": "NameError",
     "evalue": "name 'earliest_date' is not defined",
     "output_type": "error",
     "traceback": [
      "\u001b[0;31m---------------------------------------------------------------------------\u001b[0m",
      "\u001b[0;31mNameError\u001b[0m                                 Traceback (most recent call last)",
      "Cell \u001b[0;32mIn[6], line 6\u001b[0m\n\u001b[1;32m      2\u001b[0m \u001b[38;5;28;01mimport\u001b[39;00m \u001b[38;5;21;01mdatetime\u001b[39;00m\n\u001b[1;32m      5\u001b[0m \u001b[38;5;66;03m#期間取得\u001b[39;00m\n\u001b[0;32m----> 6\u001b[0m \u001b[43mearliest_date\u001b[49m\u001b[38;5;241m.\u001b[39mstrftime(\u001b[38;5;124m'\u001b[39m\u001b[38;5;124m%\u001b[39m\u001b[38;5;124mm/\u001b[39m\u001b[38;5;132;01m%d\u001b[39;00m\u001b[38;5;124m(\u001b[39m\u001b[38;5;132;01m%a\u001b[39;00m\u001b[38;5;124m)\u001b[39m\u001b[38;5;124m'\u001b[39m) \u001b[38;5;66;03m##個人で設定\u001b[39;00m\n\u001b[1;32m      7\u001b[0m latest_date\u001b[38;5;241m.\u001b[39mstrftime(\u001b[38;5;124m'\u001b[39m\u001b[38;5;124m%\u001b[39m\u001b[38;5;124mm/\u001b[39m\u001b[38;5;132;01m%d\u001b[39;00m\u001b[38;5;124m(\u001b[39m\u001b[38;5;132;01m%a\u001b[39;00m\u001b[38;5;124m)\u001b[39m\u001b[38;5;124m'\u001b[39m)   \u001b[38;5;66;03m##個人で設定\u001b[39;00m\n\u001b[1;32m     10\u001b[0m date_list \u001b[38;5;241m=\u001b[39m []\n",
      "\u001b[0;31mNameError\u001b[0m: name 'earliest_date' is not defined"
     ]
    }
   ],
   "source": [
    "from datetime import timedelta, datetime\n",
    "import datetime\n",
    "\n",
    "\n",
    "#期間取得\n",
    "earliest_date.strftime('%m/%d(%a)') ##個人で設定\n",
    "latest_date.strftime('%m/%d(%a)')   ##個人で設定\n",
    "\n",
    "\n",
    "date_list = []\n",
    "current_date = earliest_date\n",
    "\n",
    "while current_date <= latest_date:\n",
    "    date_list.append(current_date.strftime('%m/%d(%a)'))\n",
    "    current_date += timedelta(days=1)\n",
    "\n",
    "print(date_list) "
   ]
  },
  {
   "cell_type": "code",
   "execution_count": 8,
   "id": "f7534d05-d401-4d45-b758-9c4aa3ada24a",
   "metadata": {},
   "outputs": [],
   "source": [
    "#成人の日\n",
    "def get_Comiing_age_day(year):\n",
    "    # 指定した年月の1日を設定\n",
    "    date = datetime.date(year, 1, 1)\n",
    "\n",
    "    # 指定した年月の最初の月曜日を計算\n",
    "    if date.weekday() != 0:\n",
    "        date += datetime.timedelta(7 - date.weekday())\n",
    "    else:\n",
    "        date += datetime.timedelta(0)\n",
    "\n",
    "    # 2週目の月曜日を計算\n",
    "    date += datetime.timedelta(7)\n",
    "    \n",
    "    return date\n",
    "\n",
    "#海の日\n",
    "def get_Marine_day(year):\n",
    "    # 指定した年月の1日を設定\n",
    "    date = datetime.date(year, 7, 1)\n",
    "\n",
    "    # 指定した年月の最初の月曜日を計算\n",
    "    if date.weekday() != 0:\n",
    "        date += datetime.timedelta(7 - date.weekday())\n",
    "    else:\n",
    "        date += datetime.timedelta(0)\n",
    "\n",
    "    # 3週目の月曜日を計算\n",
    "    date += datetime.timedelta(14)\n",
    "    \n",
    "    return date\n",
    "\n",
    "\n",
    "\n",
    "\n",
    "\n",
    "#敬老の日\n",
    "def get_Respect_Aged_day(year):\n",
    "    # 指定した年月の1日を設定\n",
    "    date = datetime.date(year, 9, 1)\n",
    "\n",
    "    # 指定した年月の最初の月曜日を計算\n",
    "    if date.weekday() != 0:\n",
    "        date += datetime.timedelta(7 - date.weekday())\n",
    "    else:\n",
    "        date += datetime.timedelta(0)\n",
    "\n",
    "    # 3週目の月曜日を計算\n",
    "    date += datetime.timedelta(14)\n",
    "    \n",
    "    return date\n",
    "\n",
    "\n",
    "\n",
    "#スポーツの日の日\n",
    "def get_Sports_day(year):\n",
    "    # 指定した年月の1日を設定\n",
    "    date = datetime.date(year, 10, 1)\n",
    "\n",
    "    # 指定した年月の最初の月曜日を計算\n",
    "    if date.weekday() != 0:\n",
    "        date += datetime.timedelta(7 - date.weekday())\n",
    "    else:\n",
    "        date += datetime.timedelta(0)\n",
    "\n",
    "    # 3週目の月曜日を計算\n",
    "    date += datetime.timedelta(7)\n",
    "    \n",
    "    return date\n",
    "\n",
    "def vernal_equinox(year):\n",
    "    equinox_day = 20.8431 + 0.242194 * (int(year) - 1980) - int((year - 1980) / 4)\n",
    "    return int(equinox_day)\n",
    "\n",
    "vernal_equinox_day = vernal_equinox(year)\n",
    "vernal_equinox_date = datetime.date(year, 3, vernal_equinox_day)\n",
    "\n",
    "\n",
    "\n",
    "def autumnal_equinox(year):\n",
    "    equinox_day = 23.2488 + 0.242194 * (year - 1980) - int((year - 1980) / 4)\n",
    "    return int(equinox_day)\n",
    "\n",
    "autumnal_equinox_day = autumnal_equinox(year)\n",
    "autumnal_equinox_date = datetime.date(year, 9, autumnal_equinox_day)\n"
   ]
  },
  {
   "cell_type": "code",
   "execution_count": 9,
   "id": "9e16bc16-617c-4a75-9a97-ada2fbdb3c30",
   "metadata": {},
   "outputs": [
    {
     "name": "stdout",
     "output_type": "stream",
     "text": [
      "['01/09(Mon)', '07/17(Mon)', '09/18(Mon)', '10/09(Mon)']\n"
     ]
    }
   ],
   "source": [
    "def get_holidays_fixed(year):\n",
    "    holidays = []\n",
    "    \n",
    "    # 成人の日\n",
    "    comiing_age_day = get_Comiing_age_day(year)\n",
    "    holidays.append(comiing_age_day.strftime('%m/%d(%a)'))\n",
    "    \n",
    "    # 海の日\n",
    "    marine_day = get_Marine_day(year)\n",
    "    holidays.append(marine_day.strftime('%m/%d(%a)'))\n",
    "    \n",
    "    # 敬老の日\n",
    "    respect_aged_day = get_Respect_Aged_day(year)\n",
    "    holidays.append(respect_aged_day.strftime('%m/%d(%a)'))\n",
    "    \n",
    "    # スポーツの日\n",
    "    sports_day = get_Sports_day(year)\n",
    "    holidays.append(sports_day.strftime('%m/%d(%a)'))\n",
    "    \n",
    "    return holidays\n",
    "\n",
    "holidays_F = get_holidays_fixed(year)\n",
    "print(holidays_F)\n"
   ]
  },
  {
   "cell_type": "code",
   "execution_count": 10,
   "id": "2f4b1c80-069d-4320-9b5b-9819362ce07d",
   "metadata": {},
   "outputs": [
    {
     "name": "stdout",
     "output_type": "stream",
     "text": [
      "['03/20(Wed)', '09/23(Mon)']\n"
     ]
    }
   ],
   "source": [
    "def get_holidays_VandA(year):\n",
    "    holidays = []\n",
    "    # 春分の日\n",
    "    vernal_equinox_day = vernal_equinox(year)\n",
    "    vernal_equinox_date = datetime.date(year, 3, vernal_equinox_day)\n",
    "    # 日曜日であれば1日進めた日付を追加\n",
    "    if vernal_equinox_date.weekday() == 6:\n",
    "        vernal_equinox_date += datetime.timedelta(days=1)\n",
    "    holidays.append(vernal_equinox_date.strftime('%m/%d(%a)'))\n",
    "    \n",
    "    # 秋分の日\n",
    "    autumnal_equinox_day = autumnal_equinox(year)\n",
    "    autumnal_equinox_date = datetime.date(year, 9, autumnal_equinox_day)\n",
    "    # 日曜日であれば1日進めた日付を追加\n",
    "    if autumnal_equinox_date.weekday() == 6:\n",
    "        autumnal_equinox_date += datetime.timedelta(days=1)\n",
    "    holidays.append(autumnal_equinox_date.strftime('%m/%d(%a)'))\n",
    "    \n",
    "    return holidays\n",
    "\n",
    "\n",
    "holidays_VA = get_holidays_VandA(2024)\n",
    "print(holidays_VA)"
   ]
  },
  {
   "cell_type": "code",
   "execution_count": 16,
   "id": "5b506de6-b852-4905-8f5f-e5c452e6ce1c",
   "metadata": {},
   "outputs": [
    {
     "ename": "TypeError",
     "evalue": "descriptor 'date' for 'datetime.datetime' objects doesn't apply to a 'int' object",
     "output_type": "error",
     "traceback": [
      "\u001b[0;31m---------------------------------------------------------------------------\u001b[0m",
      "\u001b[0;31mTypeError\u001b[0m                                 Traceback (most recent call last)",
      "Cell \u001b[0;32mIn[16], line 21\u001b[0m\n\u001b[1;32m     18\u001b[0m             holiday_list\u001b[38;5;241m.\u001b[39mappend(date\u001b[38;5;241m.\u001b[39mstrftime(\u001b[38;5;124m\"\u001b[39m\u001b[38;5;124m%\u001b[39m\u001b[38;5;124mm/\u001b[39m\u001b[38;5;132;01m%d\u001b[39;00m\u001b[38;5;124m(\u001b[39m\u001b[38;5;132;01m%a\u001b[39;00m\u001b[38;5;124m)\u001b[39m\u001b[38;5;124m\"\u001b[39m) \u001b[38;5;241m+\u001b[39m \u001b[38;5;124m\"\u001b[39m\u001b[38;5;124m: \u001b[39m\u001b[38;5;124m\"\u001b[39m \u001b[38;5;241m+\u001b[39m name)\n\u001b[1;32m     19\u001b[0m     \u001b[38;5;28;01mreturn\u001b[39;00m holiday_list\n\u001b[0;32m---> 21\u001b[0m holidays_annual \u001b[38;5;241m=\u001b[39m \u001b[43mget_holidays_annual\u001b[49m\u001b[43m(\u001b[49m\u001b[43myear\u001b[49m\u001b[43m)\u001b[49m\n\u001b[1;32m     22\u001b[0m holidays_annual\u001b[38;5;241m=\u001b[39m [holiday\u001b[38;5;241m.\u001b[39msplit(\u001b[38;5;124m\"\u001b[39m\u001b[38;5;124m: \u001b[39m\u001b[38;5;124m\"\u001b[39m)[\u001b[38;5;241m0\u001b[39m] \u001b[38;5;28;01mfor\u001b[39;00m holiday \u001b[38;5;129;01min\u001b[39;00m holidays_annual]\n\u001b[1;32m     24\u001b[0m \u001b[38;5;28mprint\u001b[39m(holidays_annual)\n",
      "Cell \u001b[0;32mIn[16], line 3\u001b[0m, in \u001b[0;36mget_holidays_annual\u001b[0;34m(year)\u001b[0m\n\u001b[1;32m      1\u001b[0m \u001b[38;5;28;01mdef\u001b[39;00m \u001b[38;5;21mget_holidays_annual\u001b[39m(year):\n\u001b[1;32m      2\u001b[0m     holidays \u001b[38;5;241m=\u001b[39m {\n\u001b[0;32m----> 3\u001b[0m         \u001b[43mdatetime\u001b[49m\u001b[38;5;241;43m.\u001b[39;49m\u001b[43mdate\u001b[49m\u001b[43m(\u001b[49m\u001b[43myear\u001b[49m\u001b[43m,\u001b[49m\u001b[43m \u001b[49m\u001b[38;5;241;43m2\u001b[39;49m\u001b[43m,\u001b[49m\u001b[43m \u001b[49m\u001b[38;5;241;43m11\u001b[39;49m\u001b[43m)\u001b[49m: \u001b[38;5;124m\"\u001b[39m\u001b[38;5;124m建国記念の日\u001b[39m\u001b[38;5;124m\"\u001b[39m,\n\u001b[1;32m      4\u001b[0m         datetime\u001b[38;5;241m.\u001b[39mdate(year, \u001b[38;5;241m2\u001b[39m, \u001b[38;5;241m23\u001b[39m): \u001b[38;5;124m\"\u001b[39m\u001b[38;5;124m天皇誕生日\u001b[39m\u001b[38;5;124m\"\u001b[39m,\n\u001b[1;32m      5\u001b[0m         datetime\u001b[38;5;241m.\u001b[39mdate(year, \u001b[38;5;241m4\u001b[39m, \u001b[38;5;241m29\u001b[39m): \u001b[38;5;124m\"\u001b[39m\u001b[38;5;124m昭和の日\u001b[39m\u001b[38;5;124m\"\u001b[39m,\n\u001b[1;32m      6\u001b[0m         datetime\u001b[38;5;241m.\u001b[39mdate(year, \u001b[38;5;241m5\u001b[39m, \u001b[38;5;241m3\u001b[39m): \u001b[38;5;124m\"\u001b[39m\u001b[38;5;124m憲法記念日\u001b[39m\u001b[38;5;124m\"\u001b[39m,\n\u001b[1;32m      7\u001b[0m         datetime\u001b[38;5;241m.\u001b[39mdate(year, \u001b[38;5;241m5\u001b[39m, \u001b[38;5;241m4\u001b[39m): \u001b[38;5;124m\"\u001b[39m\u001b[38;5;124mみどりの日\u001b[39m\u001b[38;5;124m\"\u001b[39m,\n\u001b[1;32m      8\u001b[0m         datetime\u001b[38;5;241m.\u001b[39mdate(year, \u001b[38;5;241m5\u001b[39m, \u001b[38;5;241m5\u001b[39m): \u001b[38;5;124m\"\u001b[39m\u001b[38;5;124mこどもの日\u001b[39m\u001b[38;5;124m\"\u001b[39m,\n\u001b[1;32m      9\u001b[0m         datetime\u001b[38;5;241m.\u001b[39mdate(year, \u001b[38;5;241m8\u001b[39m, \u001b[38;5;241m11\u001b[39m): \u001b[38;5;124m\"\u001b[39m\u001b[38;5;124m山の日\u001b[39m\u001b[38;5;124m\"\u001b[39m,\n\u001b[1;32m     10\u001b[0m         datetime\u001b[38;5;241m.\u001b[39mdate(year, \u001b[38;5;241m11\u001b[39m, \u001b[38;5;241m3\u001b[39m): \u001b[38;5;124m\"\u001b[39m\u001b[38;5;124m文化の日\u001b[39m\u001b[38;5;124m\"\u001b[39m,\n\u001b[1;32m     11\u001b[0m     }\n\u001b[1;32m     12\u001b[0m     holiday_list \u001b[38;5;241m=\u001b[39m []\n\u001b[1;32m     13\u001b[0m     \u001b[38;5;28;01mfor\u001b[39;00m date, name \u001b[38;5;129;01min\u001b[39;00m holidays\u001b[38;5;241m.\u001b[39mitems():\n",
      "\u001b[0;31mTypeError\u001b[0m: descriptor 'date' for 'datetime.datetime' objects doesn't apply to a 'int' object"
     ]
    }
   ],
   "source": [
    "def get_holidays_annual(year):\n",
    "    holidays = {\n",
    "        datetime.date(year, 2, 11): \"建国記念の日\",\n",
    "        datetime.date(year, 2, 23): \"天皇誕生日\",\n",
    "        datetime.date(year, 4, 29): \"昭和の日\",\n",
    "        datetime.date(year, 5, 3): \"憲法記念日\",\n",
    "        datetime.date(year, 5, 4): \"みどりの日\",\n",
    "        datetime.date(year, 5, 5): \"こどもの日\",\n",
    "        datetime.date(year, 8, 11): \"山の日\",\n",
    "        datetime.date(year, 11, 3): \"文化の日\",\n",
    "    }\n",
    "    holiday_list = []\n",
    "    for date, name in holidays.items():\n",
    "        if date.weekday() == 6: # 6 means Sunday\n",
    "            next_day = date + datetime.timedelta(days=1)\n",
    "            holiday_list.append(next_day.strftime(\"%m/%d(%a)\") + \": \" + name)\n",
    "        else:\n",
    "            holiday_list.append(date.strftime(\"%m/%d(%a)\") + \": \" + name)\n",
    "    return holiday_list\n",
    "\n",
    "holidays_annual = get_holidays_annual(year)\n",
    "holidays_annual= [holiday.split(\": \")[0] for holiday in holidays_annual]\n",
    "\n",
    "print(holidays_annual)"
   ]
  },
  {
   "cell_type": "code",
   "execution_count": 12,
   "id": "4cc5ba47-99af-40bc-8c35-c3cff4545df2",
   "metadata": {},
   "outputs": [
    {
     "name": "stdout",
     "output_type": "stream",
     "text": [
      "['01/01(Sun)', '01/02(Mon)', '01/03(Tue)', '01/04(Wed)', '12/29(Fri)', '12/30(Sat)', '12/31(Sun)']\n"
     ]
    }
   ],
   "source": [
    "def get_holidays(year):\n",
    "    holidays = {\n",
    "        datetime.date(year, 1, 1): \"元旦\",\n",
    "        datetime.date(year, 1, 2): \"休暇\",\n",
    "        datetime.date(year, 1, 3): \"休暇\",\n",
    "        datetime.date(year, 1, 4): \"休暇\",\n",
    "        datetime.date(year, 12, 29): \"休暇\",\n",
    "        datetime.date(year, 12, 30): \"休暇\",\n",
    "        datetime.date(year, 12, 31): \"休暇\"\n",
    "    }\n",
    "\n",
    "    return [date.strftime(\"%m/%d(%a)\") for date in holidays.keys()]\n",
    "\n",
    "# 例: 2023年の祝日の日付リストを取得する場合\n",
    "holidays_A = get_holidays(2023)\n",
    "print(holidays_A)\n"
   ]
  },
  {
   "cell_type": "code",
   "execution_count": 13,
   "id": "9e81cdbf-9db5-47f1-b52e-e1c45e00daaf",
   "metadata": {},
   "outputs": [
    {
     "data": {
      "text/plain": [
       "['01/09(Mon)',\n",
       " '07/17(Mon)',\n",
       " '09/18(Mon)',\n",
       " '10/09(Mon)',\n",
       " '01/01(Sun)',\n",
       " '01/02(Mon)',\n",
       " '01/03(Tue)',\n",
       " '01/04(Wed)',\n",
       " '12/29(Fri)',\n",
       " '12/30(Sat)',\n",
       " '12/31(Sun)',\n",
       " '02/11(Sat)',\n",
       " '02/23(Thu)',\n",
       " '04/29(Sat)',\n",
       " '05/03(Wed)',\n",
       " '05/04(Thu)',\n",
       " '05/05(Fri)',\n",
       " '08/11(Fri)',\n",
       " '11/03(Fri)',\n",
       " '03/20(Wed)',\n",
       " '09/23(Mon)']"
      ]
     },
     "execution_count": 13,
     "metadata": {},
     "output_type": "execute_result"
    }
   ],
   "source": [
    "holidays_list=holidays_F+holidays_A+holidays_annual+holidays_VA\n",
    "holidays_list"
   ]
  },
  {
   "cell_type": "code",
   "execution_count": null,
   "id": "d1980ef0-1e43-432f-a1ec-55f826ce36d0",
   "metadata": {},
   "outputs": [],
   "source": [
    "for date in holidays_list:\n",
    "    if date in date_list:\n",
    "        date_list.remove(date)\n",
    "print(date_list)\n"
   ]
  },
  {
   "cell_type": "code",
   "execution_count": 14,
   "id": "5ad257dd-65ce-4c43-b164-9eedc8b9ab94",
   "metadata": {},
   "outputs": [
    {
     "ename": "NameError",
     "evalue": "name 'date_list' is not defined",
     "output_type": "error",
     "traceback": [
      "\u001b[0;31m---------------------------------------------------------------------------\u001b[0m",
      "\u001b[0;31mNameError\u001b[0m                                 Traceback (most recent call last)",
      "Cell \u001b[0;32mIn[14], line 6\u001b[0m\n\u001b[1;32m      3\u001b[0m \u001b[38;5;66;03m#土曜日取得\u001b[39;00m\n\u001b[1;32m      4\u001b[0m Sat_dates \u001b[38;5;241m=\u001b[39m []\n\u001b[0;32m----> 6\u001b[0m \u001b[38;5;28;01mfor\u001b[39;00m date_str \u001b[38;5;129;01min\u001b[39;00m \u001b[43mdate_list\u001b[49m:\n\u001b[1;32m      7\u001b[0m     date_obj \u001b[38;5;241m=\u001b[39m datetime\u001b[38;5;241m.\u001b[39mstrptime(date_str, \u001b[38;5;124m'\u001b[39m\u001b[38;5;124m%\u001b[39m\u001b[38;5;124mm/\u001b[39m\u001b[38;5;132;01m%d\u001b[39;00m\u001b[38;5;124m(\u001b[39m\u001b[38;5;132;01m%a\u001b[39;00m\u001b[38;5;124m)\u001b[39m\u001b[38;5;124m'\u001b[39m)\n\u001b[1;32m      8\u001b[0m     \u001b[38;5;28;01mif\u001b[39;00m date_obj\u001b[38;5;241m.\u001b[39mweekday() \u001b[38;5;129;01min\u001b[39;00m [\u001b[38;5;241m6\u001b[39m]:\n",
      "\u001b[0;31mNameError\u001b[0m: name 'date_list' is not defined"
     ]
    }
   ],
   "source": [
    "from datetime import datetime\n",
    "\n",
    "#土曜日取得\n",
    "Sat_dates = []\n",
    "\n",
    "for date_str in date_list:\n",
    "    date_obj = datetime.strptime(date_str, '%m/%d(%a)')\n",
    "    if date_obj.weekday() in [6]:\n",
    "        Sat_dates.append(date_str)\n",
    "\n",
    "print(Sat_dates)\n",
    "#リスト型\n",
    "\n",
    "\n",
    "\n",
    "#日曜日取得\n",
    "Sun_dates = []\n",
    "\n",
    "for date_str in date_list:\n",
    "    date_obj = datetime.strptime(date_str, '%m/%d(%a)')\n",
    "    if date_obj.weekday() in [0]:\n",
    "        Sun_dates.append(date_str)\n",
    "\n",
    "print(Sun_dates) #リスト型\n"
   ]
  },
  {
   "cell_type": "code",
   "execution_count": 15,
   "id": "b8f1591a-03f2-45d8-9624-4445f6bd87a5",
   "metadata": {},
   "outputs": [
    {
     "ename": "NameError",
     "evalue": "name 'date_list' is not defined",
     "output_type": "error",
     "traceback": [
      "\u001b[0;31m---------------------------------------------------------------------------\u001b[0m",
      "\u001b[0;31mNameError\u001b[0m                                 Traceback (most recent call last)",
      "Cell \u001b[0;32mIn[15], line 1\u001b[0m\n\u001b[0;32m----> 1\u001b[0m Business_day\u001b[38;5;241m=\u001b[39m\u001b[38;5;28mlen\u001b[39m(\u001b[43mdate_list\u001b[49m)\u001b[38;5;241m-\u001b[39m\u001b[38;5;28mlen\u001b[39m(Sat_dates)\u001b[38;5;241m-\u001b[39m\u001b[38;5;28mlen\u001b[39m(Sun_dates)\n\u001b[1;32m      2\u001b[0m Business_day\n",
      "\u001b[0;31mNameError\u001b[0m: name 'date_list' is not defined"
     ]
    }
   ],
   "source": [
    "Business_day=len(date_list)-len(Sat_dates)-len(Sun_dates)\n",
    "Business_day"
   ]
  }
 ],
 "metadata": {
  "kernelspec": {
   "display_name": "excel_sort",
   "language": "python",
   "name": "excel_sort"
  },
  "language_info": {
   "codemirror_mode": {
    "name": "ipython",
    "version": 3
   },
   "file_extension": ".py",
   "mimetype": "text/x-python",
   "name": "python",
   "nbconvert_exporter": "python",
   "pygments_lexer": "ipython3",
   "version": "3.9.16"
  }
 },
 "nbformat": 4,
 "nbformat_minor": 5
}
